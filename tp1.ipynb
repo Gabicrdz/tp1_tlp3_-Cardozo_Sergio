{
 "cells": [
  {
   "cell_type": "markdown",
   "metadata": {},
   "source": [
    "# Criterios de evaluación.\n",
    "\n",
    "* Se deben utilizar nombres de variables descriptivos y claros (Utilizar la nomeclatura correspondiente para los nombres de variables).\n",
    "* Comentarios claros y concisos que expliquen el propósito de cada sección del código.\n",
    "* Entrega en tiempo y forma.\n",
    "* Todo el código desarrollado debe ser subido a un repositorio en GitHub (el nombre del repositorio de seguir la siguiente estructura: tp1_tlp3_nombre_apellido).\n",
    "\n",
    "\n",
    "**Aclaración: Para resolver las actividades se debe incertar casillas de codigo entre cada actividad del cuaderno de Jupyter**"
   ]
  },
  {
   "cell_type": "markdown",
   "metadata": {},
   "source": [
    "### 1. **Hola Mundo y Variables**\n",
    "\n",
    "   - **Actividad 1.1**: Deben escribir un programa que imprima \"¡Hola, Mundo!\" en la consola.\n",
    "   - **Actividad 1.2**: Deben crear una variable llamada `nombre` y hacer que el programa imprima un saludo personalizado: `Hola, <nombre>!`"
   ]
  },
  {
   "cell_type": "code",
   "execution_count": 2,
   "metadata": {},
   "outputs": [
    {
     "name": "stdout",
     "output_type": "stream",
     "text": [
      "¡Hola, Mundo!\n",
      "Hola, Gabriel!\n"
     ]
    }
   ],
   "source": [
    "\n",
    "# todo: Resolución\n",
    "mensaje = \"¡Hola, Mundo!\"\n",
    "print(mensaje)\n",
    "\n",
    "nombre = \"Gabriel\"\n",
    "print(\"Hola, \" + nombre + \"!\")"
   ]
  },
  {
   "cell_type": "markdown",
   "metadata": {},
   "source": [
    "### 2. **Operaciones Matemáticas Básicas**\n",
    "\n",
    "   - **Actividad 1.1**: Crear un programa que pida al usuario dos números y realice las cuatro operaciones matemáticas básicas (suma, resta, multiplicación y división), imprimiendo los resultados.\n",
    "   - **Actividad 1.2**: Hacer que el programa calcule el promedio de los dos números."
   ]
  },
  {
   "cell_type": "code",
   "execution_count": null,
   "metadata": {},
   "outputs": [
    {
     "name": "stdout",
     "output_type": "stream",
     "text": [
      "Numeros elegidos: 6.0 y 8.0\n",
      "Suma: 14.0\n",
      "Resta: -2.0\n",
      "Multiplicación: 48.0\n",
      "División: 0.75\n",
      "Promedio: 7.0\n"
     ]
    }
   ],
   "source": [
    "\n",
    "# todo: Resolución\n",
    "num1 = float(input(\"Ingrese un numero:\"))\n",
    "num2 = float(input(\"Ingrese otro numero (no 0):\"))\n",
    "suma = num1 + num2\n",
    "resta = num1 - num2\n",
    "multiplicacion = num1 * num2\n",
    "division = num1 / num2\n",
    "promedio = (num1 + num2) /2 \n",
    "print(f\"Numeros elegidos: {num1} y {num2}\")\n",
    "print(f\"Suma: {suma}\")\n",
    "print(f\"Resta: {resta}\")\n",
    "print(f\"Multiplicación: {multiplicacion}\")\n",
    "print(f\"División: {division}\")\n",
    "print(f\"Promedio: {promedio}\")"
   ]
  },
  {
   "cell_type": "markdown",
   "metadata": {},
   "source": [
    "### 3. **Condicionales (if-else)**\n",
    "\n",
    "   - **Actividad 1.1**: Escribir un programa que pida al usuario su edad y le diga si es mayor de edad (18 años o más).\n",
    "   - **Actividad 1.2**: Agregar un mensaje diferente para diferentes rangos de edad, como por ejemplo, si es un niño, adolescente o adulto."
   ]
  },
  {
   "cell_type": "code",
   "execution_count": 22,
   "metadata": {},
   "outputs": [
    {
     "name": "stdout",
     "output_type": "stream",
     "text": [
      "Eres menor de edad\n",
      "Eres un adolescente\n"
     ]
    }
   ],
   "source": [
    "\n",
    "# todo: Resolución\n",
    "edad = int(input(\"Ingrese su edad:\"))\n",
    "if edad > 18 :\n",
    "    print(\"Eres mayor de edad\")\n",
    "else:\n",
    "    print(\"Eres menor de edad\")\n",
    "if edad > 0 and edad < 12:\n",
    "    print(\"Eres un niño\")\n",
    "elif edad >= 12 and edad < 18:\n",
    "    print(\"Eres un adolescente\")\n",
    "elif edad >= 18 and edad < 65:\n",
    "    print(\"Eres un adulto\")\n",
    "\n"
   ]
  },
  {
   "cell_type": "markdown",
   "metadata": {},
   "source": [
    "### 4. **Ciclos (while, for)**\n",
    "\n",
    "   - **Actividad 1.1**: Escribir un programa que imprima los números del 1 al 10 usando un bucle `for`.\n",
    "   - **Actividad 1.2**: Usar un bucle `while` para imprimir los números del 1 al 10, e imprimir solo aquellos números que sean divisibles por 2."
   ]
  },
  {
   "cell_type": "code",
   "execution_count": null,
   "metadata": {},
   "outputs": [
    {
     "name": "stdout",
     "output_type": "stream",
     "text": [
      "1\n",
      "2\n",
      "3\n",
      "4\n",
      "5\n",
      "6\n",
      "7\n",
      "8\n",
      "9\n",
      "10\n",
      "Numeros divisibles por 2:\n",
      "2\n",
      "4\n",
      "6\n",
      "8\n",
      "10\n"
     ]
    }
   ],
   "source": [
    "\n",
    "# todo: Resolución\n",
    "for iterador in [1,2,3,4,5,6,7,8,9,10]:\n",
    "    print(iterador)\n",
    "\n",
    "print(\"Numeros divisibles por 2:\")\n",
    "numero = 1\n",
    "while numero <=10 :\n",
    "    if numero % 2 == 0:        print(numero)\n",
    "    numero += 1\n"
   ]
  },
  {
   "cell_type": "markdown",
   "metadata": {},
   "source": [
    "### 5. **Listas y Bucles**\n",
    "\n",
    "   - **Actividad 1.1**: Crear una lista con 5 números y escribir un programa que imprima cada número de la lista usando un bucle `for`.\n",
    "   - **Actividad 1.2**: Usar un bucle para calcular la suma de los números de la lista."
   ]
  },
  {
   "cell_type": "code",
   "execution_count": 29,
   "metadata": {},
   "outputs": [
    {
     "name": "stdout",
     "output_type": "stream",
     "text": [
      "10\n",
      "20\n",
      "30\n",
      "40\n",
      "50\n",
      "La suma total de los números es: 150\n"
     ]
    }
   ],
   "source": [
    "\n",
    "# todo: Resolución\n",
    "numeros = [10, 20, 30 , 40, 50]\n",
    "for numero in numeros:\n",
    "    print(numero)\n",
    "\n",
    "suma_numeros = 0\n",
    "for numero in numeros:\n",
    "    suma_numeros += numero\n",
    "\n",
    "print(f\"La suma total de los números es: {suma_numeros}\")"
   ]
  },
  {
   "cell_type": "markdown",
   "metadata": {},
   "source": [
    "### 6. **Funciones**\n",
    "\n",
    "   - **Actividad 1.1**: Escribir una función llamada `saludo` que reciba un nombre como parámetro y devuelva un saludo personalizado.\n",
    "   - **Actividad 1.2**: Crear una función que reciba dos números y devuelva su suma, resta, multiplicación y división."
   ]
  },
  {
   "cell_type": "code",
   "execution_count": 40,
   "metadata": {},
   "outputs": [
    {
     "name": "stdout",
     "output_type": "stream",
     "text": [
      "Hola Gabriel, bienvenido\n",
      "{'Suma': 9, 'Resta': -3, 'Multiplicacion': 18, 'Division': 0.5}\n"
     ]
    }
   ],
   "source": [
    "\n",
    "# todo: Resolución\n",
    "def saludo(nombre):\n",
    "    return f\"Hola {nombre}, bienvenido\"\n",
    "print(saludo(\"Gabriel\"))\n",
    "\n",
    "def operaciones(num1, num2):\n",
    "    suma = num1 + num2\n",
    "    resta = num1 - num2\n",
    "    multiplicacion = num1 * num2\n",
    "    if num2 != 0:\n",
    "        division = num1 / num2\n",
    "    else:\n",
    "        division = \"Error: no se puede dividir por 0\"\n",
    "    \n",
    "    return {\n",
    "        \"Suma\": suma,\n",
    "        \"Resta\": resta,\n",
    "        \"Multiplicacion\": multiplicacion,\n",
    "        \"Division\": division\n",
    "    }\n",
    "numeros = operaciones(3, 6)\n",
    "print(numeros)\n"
   ]
  },
  {
   "cell_type": "markdown",
   "metadata": {},
   "source": [
    "### 7. **Manejo de cadenas de texto**\n",
    "\n",
    "   - **Actividad 1.1**: Escribir un programa que pida al usuario su nombre y lo imprima en mayúsculas y en minúsculas.\n",
    "   - **Actividad 1.2**: Hacer que el programa imprima la longitud del nombre ingresado (no tener en cuenta los espacios en blanco)."
   ]
  },
  {
   "cell_type": "code",
   "execution_count": 42,
   "metadata": {},
   "outputs": [
    {
     "name": "stdout",
     "output_type": "stream",
     "text": [
      "Tu nombre en mayúsculas: GABRIEL\n",
      "Tu nombre en minúsculas: gabriel\n",
      "Longitud de tu nombre: 7\n"
     ]
    }
   ],
   "source": [
    "nombre = input(\"Ingrese su nombre: \")\n",
    "\n",
    "print(\"Tu nombre en mayúsculas:\", nombre.upper())\n",
    "print(\"Tu nombre en minúsculas:\", nombre.lower())\n",
    "\n",
    "longitud_nombre = len(nombre.replace(\" \", \"\"))\n",
    "print(\"Longitud de tu nombre:\", longitud_nombre)\n"
   ]
  },
  {
   "cell_type": "markdown",
   "metadata": {},
   "source": [
    "### 8. **Diccionarios**\n",
    "\n",
    "   - **Actividad1.1**: Crear un diccionario que contenga los nombres de tres personas como claves y sus edades como valores. El programa debe imprimir la edad de cada persona.\n",
    "   - **Actividad1.2**: Escribir un programa que pregunte al usuario un nombre, luego su edad y los agregue al diccionario."
   ]
  },
  {
   "cell_type": "code",
   "execution_count": 3,
   "metadata": {},
   "outputs": [
    {
     "name": "stdout",
     "output_type": "stream",
     "text": [
      "Gabriel 21\n",
      "Juan 23\n",
      "Pedro 19\n",
      "{'Gabriel': 21, 'Juan': 23, 'Pedro': 19, 'Alan': 14}\n"
     ]
    }
   ],
   "source": [
    "\n",
    "# todo: Resolución\n",
    "personas = {\n",
    "    \"Gabriel\": 21,\n",
    "    \"Juan\": 23,\n",
    "    \"Pedro\": 19\n",
    "    }\n",
    "\n",
    "for nombre, edad in personas.items():\n",
    "    print(nombre, edad)\n",
    "\n",
    "nombre = input(\"¿Cuál es tu nombre?: \")\n",
    "edad = int(input(\"¿Cuál es tu edad?: \"))\n",
    "personas[nombre] = edad\n",
    "\n",
    "print(personas)\n",
    "\n"
   ]
  },
  {
   "cell_type": "markdown",
   "metadata": {},
   "source": [
    "### 9. **Números aleatorios**\n",
    "\n",
    "   - **Actividad 1.1**: Escribir un programa que genere 5 números aleatorios entre 1 y 100, lo imprima por consola y diga si es mayor o menor a 50.\n",
    "   - **Actividad 1.2**: Sumar los 5 números generados aleatoriamente y en caso de que el resultado sea mayor a 100, mostrar el valor antes de ser mayor a 100 y cuantos números se sumaron para llegar a dicho valor."
   ]
  },
  {
   "cell_type": "code",
   "execution_count": null,
   "metadata": {},
   "outputs": [
    {
     "name": "stdout",
     "output_type": "stream",
     "text": [
      "5 es menor a 50\n",
      "8 es menor a 50\n",
      "25 es menor a 50\n",
      "78 es mayor a 50\n",
      "23 es menor a 50\n",
      "La suma números es 116\n",
      "Se sumaron 4 números antes de superar 100\n"
     ]
    }
   ],
   "source": [
    "\n",
    "# todo: Resolución\n",
    "import random \n",
    "\n",
    "numeros = [random.randint(1, 100) for _ in range(5)]\n",
    "\n",
    "for num in numeros:\n",
    "    if num > 50:\n",
    "        print(f\"{num} es mayor a 50\")\n",
    "    else:\n",
    "        print(f\"{num} es menor a 50\")\n",
    "\n",
    "suma = 0\n",
    "numeros_sumados = 0\n",
    "for num in numeros:\n",
    "    suma += num\n",
    "    numeros_sumados += 1\n",
    "    if suma > 100:\n",
    "        break\n",
    "\n",
    "print(f\"La suma números es {suma}\")\n",
    "print(f\"Se sumaron {numeros_sumados} números antes de superar 100\")\n",
    "\n"
   ]
  },
  {
   "cell_type": "markdown",
   "metadata": {},
   "source": [
    "### 10. **Proyecto Final: Calculadora**\n",
    "\n",
    "   - **Actividad 1.1**: Los estudiantes deben crear una calculadora básica que permita realizar operaciones de suma, resta, multiplicación y división con entradas del usuario. El programa debe pedir al usuario que elija la operación y luego introducir 2 números para realizar el cálculo.\n",
    "   - **Actividad 1.2**: Implementar una opción para que el usuario pueda continuar haciendo cálculos o salir del programa."
   ]
  },
  {
   "cell_type": "code",
   "execution_count": null,
   "metadata": {},
   "outputs": [
    {
     "name": "stdout",
     "output_type": "stream",
     "text": [
      "Seleccione una operacion:\n",
      "1. Suma\n",
      "2. Resta\n",
      "3. Multiplicacion\n",
      "4. Division\n",
      "5. Salir\n"
     ]
    },
    {
     "name": "stdout",
     "output_type": "stream",
     "text": [
      "Saliendo del programa...\n"
     ]
    }
   ],
   "source": [
    "\n",
    "# todo: Resolución\n",
    "def calculadora():\n",
    "    print(\"Seleccione una operacion:\")\n",
    "    print(\"1. Suma\")\n",
    "    print(\"2. Resta\")\n",
    "    print(\"3. Multiplicacion\")\n",
    "    print(\"4. Division\")\n",
    "    print(\"5. Salir\")\n",
    "    \n",
    "    operacion = int(input(\"Ingrese el numero de la operacion: \"))\n",
    "    \n",
    "    if operacion == 5:\n",
    "        print(\"Saliendo del programa...\")\n",
    "        return\n",
    "    \n",
    "    numero_uno = float(input(\"Ingrese el primer número: \"))\n",
    "    numero_dos = float(input(\"Ingrese el segundo número: \"))\n",
    "    \n",
    "    if operacion == 1:\n",
    "        resultado = numero_uno + numero_dos\n",
    "        print(f\"El resultado de la suma es: {resultado}\")\n",
    "    elif operacion == 2:\n",
    "        resultado = numero_uno - numero_dos\n",
    "        print(f\"El resultado de la resta es: {resultado}\")\n",
    "    elif operacion == 3:\n",
    "        resultado = numero_uno * numero_dos\n",
    "        print(f\"El resultado de la multiplicacion es: {resultado}\")\n",
    "    elif operacion == 4:\n",
    "        if numero_dos == 0:\n",
    "            print(\"No se puede dividir por 0\")\n",
    "        else:\n",
    "            resultado = numero_uno / numero_dos\n",
    "            print(f\"El resultado de la division es: {resultado}\")\n",
    "        \n",
    "    continuar = input(\"¿Desea realizar otra operación? (s/n): \")\n",
    "    if continuar.lower() == 's':\n",
    "        calculadora()\n",
    "    else:\n",
    "        print(\"Gracias por usar la calculadora\");\n",
    "\n",
    "calculadora()"
   ]
  },
  {
   "cell_type": "markdown",
   "metadata": {},
   "source": [
    "### EXTRA. **Juegos Simples (Adivina el número)**\n",
    "\n",
    "   - **Actividad 1.1**: Escribir un juego donde el programa elija un número aleatorio entre 1 y 100 y el usuario tenga que adivinarlo. El programa debe dar pistas si el número es mayor o menor.\n",
    "   - **Actividad 1.2**: Limitar el número de intentos y mostrar un mensaje de éxito o fracaso al final."
   ]
  }
 ],
 "metadata": {
  "kernelspec": {
   "display_name": "Python 3",
   "language": "python",
   "name": "python3"
  },
  "language_info": {
   "codemirror_mode": {
    "name": "ipython",
    "version": 3
   },
   "file_extension": ".py",
   "mimetype": "text/x-python",
   "name": "python",
   "nbconvert_exporter": "python",
   "pygments_lexer": "ipython3",
   "version": "3.11.9"
  }
 },
 "nbformat": 4,
 "nbformat_minor": 2
}
